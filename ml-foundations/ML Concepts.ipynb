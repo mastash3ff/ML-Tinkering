{
 "cells": [
  {
   "cell_type": "markdown",
   "metadata": {},
   "source": [
    "#### How would you define Machine Learning?\n",
    "\n",
    "- The ability for computers to learn from data and gain insights.\n",
    "\n",
    "#### Can you name four types of problems where it shines?\n",
    "\n",
    "- Predicting house values, grouping people with similiar interests in movies, automate driving for vehicles, and providing recommendations for products based off past purchases.\n",
    "\n",
    "#### What is a labeled training set?\n",
    "\n",
    "- A labeled training set is a data set that has known identifiers for a given field of data.\n",
    "\n",
    "#### What are the two most common supervised tasks?\n",
    "\n",
    "- Predicting(regression) and classifying.\n",
    "\n",
    "#### Can you name four common unsupervised tasks?\n",
    "- Clustering, visualization, dimensionality reduction, and association rule learning.\n",
    "\n",
    "#### What type of Machine Learning algorithm would you use to allow a robot to walk in various unknown terrains?\n",
    "- Reinforcement learning.\n",
    "\n",
    "#### What type of algorithm would you use to segment your customers into multiple groups?\n",
    "-An unsupervised k-means clustering algorithm.\n",
    "\n",
    "#### Would you frame the problem of spam detection as a supervised learning problem or an unsupervised learning problem?\n",
    "-A spam detection problem would be framed as a supervised learning problem since it would require labeled data that is known to be spam to dissassociate non-spam.\n",
    "\n",
    "#### What is an online learning system?\n",
    "- An online learning system is an incremental learning technique that updates it's weights more rapidly than a batch learning system given the same data size.\n",
    "\n",
    "#### What is out-of-core learning?\n",
    "- Out-of-core learning is where data is too large to be fit into physical memory on a single machine and requires the data to be distributed among multiple computers instead.\n",
    "\n",
    "#### What type of learning algorithm relies on a similiarity measure to make predictions?\n",
    "- An instance based learning algorithm relies on learning data by heart and measuring similiarties between the given data to make predictions.\n",
    "\n",
    "#### What is the difference between a model parameter and a learning algorithm's hyperparameter?\n",
    "- A hyperparameter pertaining to a learning algorithm while a model parameter pertains to a model.\n",
    "\n",
    "#### What do model-based learning algorithms search for?  What is the most common strategy they use to succeed?  How do they make predictions?\n",
    "\n",
    "#### Can you name four of the main challenges in Machine Learning?\n",
    "\n",
    "#### If you model performs great on the training data but generalizes poorly to new instances, what is happening?  Can you name three possible solutions?\n",
    "\n",
    "- The model is overfitting the training data thus it does not generalize well for new instances.  Some possible solutions can be to reduce the number of features, feed the model more data, and remove outliers in the data set.\n",
    "\n",
    "#### What is a test set and why would you want to use it?\n",
    "\n",
    "#### What is the purpose of validation set?\n",
    "\n",
    "\n",
    "#### What can go wrong if you tune hyperparameter using the test set?\n",
    "\n",
    "#### What is cross-validation and why would you prefer it to a validation set?"
   ]
  },
  {
   "cell_type": "markdown",
   "metadata": {},
   "source": []
  }
 ],
 "metadata": {
  "kernelspec": {
   "display_name": "Python 3",
   "language": "python",
   "name": "python3"
  },
  "language_info": {
   "codemirror_mode": {
    "name": "ipython",
    "version": 3
   },
   "file_extension": ".py",
   "mimetype": "text/x-python",
   "name": "python",
   "nbconvert_exporter": "python",
   "pygments_lexer": "ipython3",
   "version": "3.5.3"
  }
 },
 "nbformat": 4,
 "nbformat_minor": 2
}

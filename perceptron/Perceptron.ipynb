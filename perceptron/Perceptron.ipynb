{
 "cells": [
  {
   "cell_type": "code",
   "execution_count": 1,
   "metadata": {
    "collapsed": true
   },
   "outputs": [],
   "source": [
    "from IPython.display import Image"
   ]
  },
  {
   "cell_type": "code",
   "execution_count": null,
   "metadata": {
    "collapsed": true
   },
   "outputs": [],
   "source": []
  },
  {
   "cell_type": "code",
   "execution_count": null,
   "metadata": {
    "collapsed": true
   },
   "outputs": [],
   "source": [
    "import numpy as np\n",
    "\n",
    "class Perceptron(object):\n",
    "    \"\"\"Perceptron classifier\n",
    "    \n",
    "    eta: float\n",
    "        Learning rate between 0.0 and 1.0\n",
    "        \n",
    "    n_iter : int\n",
    "        Passes over the training dataset\n",
    "        \n",
    "    Attributes\n",
    "    \n",
    "    w_ : 1-dimensional array\n",
    "       Weights after fitting\n",
    "    errors_ : list\n",
    "       Number of misclassification(updates) in each epoch\n",
    "    \"\"\"\n",
    "    \n",
    "    def __init__(self, eta=0.01, n_iter=10, random_seed=1):\n",
    "        \"\"\"Provide default values unless specified otherwise\"\"\"\n",
    "        \n",
    "        self.eta = eta\n",
    "        self.n_iter = n_iter\n",
    "        self.random_seed = random_seed\n",
    "        \n",
    "    def fit(self, X, y):\n",
    "        \"\"\"Fit training data\n",
    "        \n",
    "        Parameters\n",
    "        X: {array-like}, shape = [n_samples, n_features]\n",
    "           Training vectors, where n_samples is the number of samples.\n",
    "           n_features is the number of features.\n",
    "        y: array-like, shape = [n_samples]\n",
    "           Target values\n",
    "           \n",
    "        Returns\n",
    "        self : object\n",
    "        \n",
    "        \"\"\"\n",
    "        \n",
    "        #self.w_ = np.zeros(1 + X.shape[1])\n",
    "        \n",
    "        \n",
    "        #initialize weights to non-zero to have the learning rate\n",
    "        # influence the classification outcome\n",
    "        rgen = np.random(RandomState(self.random_seed))\n",
    "        self.w_ = rgen.normal(loc=0.0,scale=0.01,size=1 + X.shape[1])\n",
    "        \n",
    "        self.errors_ = []\n",
    "        \n",
    "        for _ in range(self.n_iter):\n",
    "            errors = 0\n",
    "            #zip conjoins X and y together as a list of tuples \n",
    "            #  ex. [(a,b),(c,d)...]\n",
    "            for xi, target in zip(X,y):\n",
    "                update = self.eta * (target - self.predict(xi))\n",
    "                self.w_[1:] += update * xi\n",
    "                self.w_[0] += update\n",
    "                errors += int(update != 0.0)\n",
    "            self.errors_.append(errors)\n",
    "        return self\n",
    "    \n",
    "    def net_input(self.X):\n",
    "        \"\"\"Calculate net input\"\"\"\n",
    "        \n",
    "        #mathematical wizardy\n",
    "        return np.dot(X, self.w_[1:]) + self.w_[0]\n",
    "    \n",
    "    def predict(self,X):\n",
    "        \"\"\"Return class label after unit step\"\"\"\n",
    "        \n",
    "        return np.where(self.net_input(X) >= 0.0, 1, -1)\n",
    "    \n",
    "    "
   ]
  }
 ],
 "metadata": {
  "kernelspec": {
   "display_name": "Python [conda env:mlbook]",
   "language": "python",
   "name": "conda-env-mlbook-py"
  },
  "language_info": {
   "codemirror_mode": {
    "name": "ipython",
    "version": 3
   },
   "file_extension": ".py",
   "mimetype": "text/x-python",
   "name": "python",
   "nbconvert_exporter": "python",
   "pygments_lexer": "ipython3",
   "version": "3.5.3"
  }
 },
 "nbformat": 4,
 "nbformat_minor": 2
}
